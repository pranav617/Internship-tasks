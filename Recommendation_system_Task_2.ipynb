{
  "nbformat": 4,
  "nbformat_minor": 0,
  "metadata": {
    "colab": {
      "provenance": []
    },
    "kernelspec": {
      "name": "python3",
      "display_name": "Python 3"
    },
    "language_info": {
      "name": "python"
    }
  },
  "cells": [
    {
      "cell_type": "code",
      "execution_count": 2,
      "metadata": {
        "colab": {
          "base_uri": "https://localhost:8080/"
        },
        "id": "2FhmRFrmoVj9",
        "outputId": "7a6b17b3-f575-4aef-fe4f-d9357d4622a4"
      },
      "outputs": [
        {
          "output_type": "stream",
          "name": "stdout",
          "text": [
            "Downloading dataset...\n",
            "Extracting dataset...\n",
            "🎯 Top movie recommendations for User 1:\n",
            "title\n",
            "Aliens (1986)                       4.8\n",
            "Hunt for Red October, The (1990)    4.3\n",
            "Blade Runner (1982)                 4.0\n",
            "Godfather, The (1972)               4.0\n",
            "Die Hard (1988)                     4.0\n",
            "dtype: float64\n"
          ]
        }
      ],
      "source": [
        "# ✅ Step 1: Import Libraries\n",
        "import pandas as pd\n",
        "from sklearn.metrics.pairwise import cosine_similarity\n",
        "import os, zipfile, urllib.request\n",
        "\n",
        "# ✅ Step 2: Download and extract MovieLens dataset automatically\n",
        "dataset_url = \"https://files.grouplens.org/datasets/movielens/ml-latest-small.zip\"\n",
        "zip_path = \"ml-latest-small.zip\"\n",
        "extract_folder = \"ml-latest-small\"\n",
        "\n",
        "# Download the zip if not present\n",
        "if not os.path.exists(zip_path):\n",
        "    print(\"Downloading dataset...\")\n",
        "    urllib.request.urlretrieve(dataset_url, zip_path)\n",
        "\n",
        "# Extract if not already extracted\n",
        "if not os.path.exists(extract_folder):\n",
        "    print(\"Extracting dataset...\")\n",
        "    with zipfile.ZipFile(zip_path, 'r') as zip_ref:\n",
        "        zip_ref.extractall(\".\")\n",
        "\n",
        "# ✅ Step 3: Load ratings and movies data\n",
        "ratings = pd.read_csv(f\"{extract_folder}/ratings.csv\")\n",
        "movies = pd.read_csv(f\"{extract_folder}/movies.csv\")\n",
        "\n",
        "# ✅ Step 4: Merge to get movie titles with ratings\n",
        "data = pd.merge(ratings, movies, on='movieId')\n",
        "\n",
        "# ✅ Step 5: Create user-item rating matrix\n",
        "user_movie_matrix = data.pivot_table(index='userId', columns='title', values='rating').fillna(0)\n",
        "\n",
        "# ✅ Step 6: Compute cosine similarity between users\n",
        "user_similarity = cosine_similarity(user_movie_matrix)\n",
        "user_similarity_df = pd.DataFrame(user_similarity, index=user_movie_matrix.index, columns=user_movie_matrix.index)\n",
        "\n",
        "# ✅ Step 7: Recommendation Function\n",
        "def recommend_movies(user_id, top_n_users=5, top_n_movies=5):\n",
        "    if user_id not in user_movie_matrix.index:\n",
        "        return \"User ID not found in dataset.\"\n",
        "\n",
        "    # Step 1: Find similar users\n",
        "    similar_users = user_similarity_df[user_id].sort_values(ascending=False)[1:top_n_users+1].index\n",
        "\n",
        "    # Step 2: Movies already rated by target user\n",
        "    user_rated = set(user_movie_matrix.columns[user_movie_matrix.loc[user_id] > 0])\n",
        "\n",
        "    # Step 3: Get ratings from similar users\n",
        "    similar_users_ratings = user_movie_matrix.loc[similar_users]\n",
        "\n",
        "    # Step 4: Average and recommend unrated movies\n",
        "    avg_ratings = similar_users_ratings.mean().sort_values(ascending=False)\n",
        "    recommendations = avg_ratings[~avg_ratings.index.isin(user_rated)]\n",
        "\n",
        "    return recommendations.head(top_n_movies)\n",
        "\n",
        "# ✅ Step 8: Try with a user (e.g., user 1)\n",
        "print(\"🎯 Top movie recommendations for User 1:\")\n",
        "print(recommend_movies(user_id=1))\n",
        "\n"
      ]
    }
  ]
}